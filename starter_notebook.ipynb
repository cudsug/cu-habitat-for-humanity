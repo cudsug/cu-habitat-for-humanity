{
 "cells": [
  {
   "cell_type": "markdown",
   "metadata": {},
   "source": [
    "**This notebook is an example notebook of how you can explore and visualize the dataset**"
   ]
  },
  {
   "cell_type": "code",
   "execution_count": 73,
   "metadata": {},
   "outputs": [],
   "source": [
    "# import some helper libraries\n",
    "import pandas as pd # for working with dataframes\n",
    "import matplotlib.pyplot as plt # for plotting\n",
    "%matplotlib inline\n",
    "import seaborn as sns # for pretty plotting\n",
    "import datetime # for dealing with datetime data"
   ]
  },
  {
   "cell_type": "code",
   "execution_count": 40,
   "metadata": {},
   "outputs": [],
   "source": [
    "# read in one of the datasets\n",
    "day_1216 = pd.read_csv('datasets/donations_by_day_2012_2016.csv')"
   ]
  },
  {
   "cell_type": "code",
   "execution_count": 41,
   "metadata": {},
   "outputs": [
    {
     "data": {
      "text/html": [
       "<div>\n",
       "<style scoped>\n",
       "    .dataframe tbody tr th:only-of-type {\n",
       "        vertical-align: middle;\n",
       "    }\n",
       "\n",
       "    .dataframe tbody tr th {\n",
       "        vertical-align: top;\n",
       "    }\n",
       "\n",
       "    .dataframe thead th {\n",
       "        text-align: right;\n",
       "    }\n",
       "</style>\n",
       "<table border=\"1\" class=\"dataframe\">\n",
       "  <thead>\n",
       "    <tr style=\"text-align: right;\">\n",
       "      <th></th>\n",
       "      <th>ID</th>\n",
       "      <th>Date</th>\n",
       "      <th>DayOfWeek</th>\n",
       "      <th>Type</th>\n",
       "      <th>ReceiptDeclined</th>\n",
       "      <th>Address</th>\n",
       "      <th>AddToMailingList</th>\n",
       "      <th>VolunteerInterest</th>\n",
       "      <th>NoOfDonations</th>\n",
       "      <th>Notes</th>\n",
       "    </tr>\n",
       "  </thead>\n",
       "  <tbody>\n",
       "    <tr>\n",
       "      <th>0</th>\n",
       "      <td>1</td>\n",
       "      <td>8/14/2015</td>\n",
       "      <td>Friday</td>\n",
       "      <td>NaN</td>\n",
       "      <td>NaN</td>\n",
       "      <td>CR  N, Rantoul</td>\n",
       "      <td>n</td>\n",
       "      <td>n</td>\n",
       "      <td>1.0</td>\n",
       "      <td>NaN</td>\n",
       "    </tr>\n",
       "    <tr>\n",
       "      <th>1</th>\n",
       "      <td>2</td>\n",
       "      <td>8/14/2015</td>\n",
       "      <td>Friday</td>\n",
       "      <td>NaN</td>\n",
       "      <td>NaN</td>\n",
       "      <td>Delmar Ave, Champaign</td>\n",
       "      <td>n</td>\n",
       "      <td>n</td>\n",
       "      <td>1.0</td>\n",
       "      <td>NaN</td>\n",
       "    </tr>\n",
       "    <tr>\n",
       "      <th>2</th>\n",
       "      <td>3</td>\n",
       "      <td>8/14/2015</td>\n",
       "      <td>Friday</td>\n",
       "      <td>NaN</td>\n",
       "      <td>NaN</td>\n",
       "      <td>Turkey Farm Rd, Mahomet</td>\n",
       "      <td>n</td>\n",
       "      <td>n</td>\n",
       "      <td>1.0</td>\n",
       "      <td>NaN</td>\n",
       "    </tr>\n",
       "    <tr>\n",
       "      <th>3</th>\n",
       "      <td>4</td>\n",
       "      <td>8/14/2015</td>\n",
       "      <td>Friday</td>\n",
       "      <td>NaN</td>\n",
       "      <td>NaN</td>\n",
       "      <td>N. Lynn St, Apt , Champaign</td>\n",
       "      <td>n</td>\n",
       "      <td>n</td>\n",
       "      <td>1.0</td>\n",
       "      <td>NaN</td>\n",
       "    </tr>\n",
       "    <tr>\n",
       "      <th>4</th>\n",
       "      <td>5</td>\n",
       "      <td>8/14/2015</td>\n",
       "      <td>Friday</td>\n",
       "      <td>NaN</td>\n",
       "      <td>NaN</td>\n",
       "      <td>B Patton Dr, Mahomet</td>\n",
       "      <td>n</td>\n",
       "      <td>n</td>\n",
       "      <td>1.0</td>\n",
       "      <td>NaN</td>\n",
       "    </tr>\n",
       "  </tbody>\n",
       "</table>\n",
       "</div>"
      ],
      "text/plain": [
       "   ID       Date DayOfWeek Type ReceiptDeclined                      Address  \\\n",
       "0   1  8/14/2015    Friday  NaN             NaN               CR  N, Rantoul   \n",
       "1   2  8/14/2015    Friday  NaN             NaN        Delmar Ave, Champaign   \n",
       "2   3  8/14/2015    Friday  NaN             NaN      Turkey Farm Rd, Mahomet   \n",
       "3   4  8/14/2015    Friday  NaN             NaN  N. Lynn St, Apt , Champaign   \n",
       "4   5  8/14/2015    Friday  NaN             NaN         B Patton Dr, Mahomet   \n",
       "\n",
       "  AddToMailingList VolunteerInterest  NoOfDonations Notes  \n",
       "0                n                 n            1.0   NaN  \n",
       "1                n                 n            1.0   NaN  \n",
       "2                n                 n            1.0   NaN  \n",
       "3                n                 n            1.0   NaN  \n",
       "4                n                 n            1.0   NaN  "
      ]
     },
     "execution_count": 41,
     "metadata": {},
     "output_type": "execute_result"
    }
   ],
   "source": [
    "# take a look at the first few data points\n",
    "day_1216.head()"
   ]
  },
  {
   "cell_type": "code",
   "execution_count": 74,
   "metadata": {},
   "outputs": [
    {
     "name": "stdout",
     "output_type": "stream",
     "text": [
      "<class 'pandas.core.frame.DataFrame'>\n",
      "RangeIndex: 10072 entries, 0 to 10071\n",
      "Data columns (total 10 columns):\n",
      "ID                   10072 non-null int64\n",
      "Date                 10072 non-null datetime64[ns]\n",
      "DayOfWeek            10072 non-null object\n",
      "Type                 53 non-null object\n",
      "ReceiptDeclined      842 non-null object\n",
      "Address              5849 non-null object\n",
      "AddToMailingList     9199 non-null object\n",
      "VolunteerInterest    9201 non-null object\n",
      "NoOfDonations        10042 non-null float64\n",
      "Notes                7 non-null object\n",
      "dtypes: datetime64[ns](1), float64(1), int64(1), object(7)\n",
      "memory usage: 787.0+ KB\n"
     ]
    }
   ],
   "source": [
    "# and get some info about the columns\n",
    "day_1216.info()"
   ]
  },
  {
   "cell_type": "code",
   "execution_count": 44,
   "metadata": {},
   "outputs": [
    {
     "data": {
      "text/plain": [
       "array([ 1.,  6., 18.,  8.,  7.,  9., 10., 12.,  5., 11., 15.,  4.,  2.,\n",
       "       nan, 14., 13.,  3.,  0., 16., 17., 20.])"
      ]
     },
     "execution_count": 44,
     "metadata": {},
     "output_type": "execute_result"
    }
   ],
   "source": [
    "day_1216['NoOfDonations'].unique()"
   ]
  },
  {
   "cell_type": "markdown",
   "metadata": {},
   "source": [
    "One simple question to ask is: What day in the week had the most donations? Let's take a look at the DayOfWeek column. First we want to check for missing values."
   ]
  },
  {
   "cell_type": "code",
   "execution_count": 45,
   "metadata": {},
   "outputs": [
    {
     "data": {
      "text/plain": [
       "2116"
      ]
     },
     "execution_count": 45,
     "metadata": {},
     "output_type": "execute_result"
    }
   ],
   "source": [
    "sum(day_1216['DayOfWeek'].isnull())"
   ]
  },
  {
   "cell_type": "code",
   "execution_count": 75,
   "metadata": {},
   "outputs": [
    {
     "data": {
      "text/plain": [
       "array(['friday', 'saturday', 'monday', 'tuesday', 'wednesday', 'thursday',\n",
       "       'sunday'], dtype=object)"
      ]
     },
     "execution_count": 75,
     "metadata": {},
     "output_type": "execute_result"
    }
   ],
   "source": [
    "# examining the DayOfWeek column\n",
    "day_1216['DayOfWeek'].unique()"
   ]
  },
  {
   "cell_type": "markdown",
   "metadata": {},
   "source": [
    "*Seems like there are many different ways of enter the day of week! Will need to clean them a bit. Or since we have the date for every donation, we can get the day of week straight from there to impute missing entries.*"
   ]
  },
  {
   "cell_type": "code",
   "execution_count": 47,
   "metadata": {},
   "outputs": [],
   "source": [
    "day_1216['Date'] = pd.to_datetime(day_1216['Date'])"
   ]
  },
  {
   "cell_type": "code",
   "execution_count": 48,
   "metadata": {},
   "outputs": [],
   "source": [
    "week_days = {0: 'monday', 1: 'tuesday', 2: 'wednesday', 3: 'thursday', 4: 'friday', 5: 'saturday', 6: 'sunday'}"
   ]
  },
  {
   "cell_type": "code",
   "execution_count": 51,
   "metadata": {},
   "outputs": [],
   "source": [
    "day_1216['DayOfWeek'] = day_1216['Date'].apply(lambda date: week_days[date.weekday()])"
   ]
  },
  {
   "cell_type": "code",
   "execution_count": 52,
   "metadata": {},
   "outputs": [
    {
     "data": {
      "text/html": [
       "<div>\n",
       "<style scoped>\n",
       "    .dataframe tbody tr th:only-of-type {\n",
       "        vertical-align: middle;\n",
       "    }\n",
       "\n",
       "    .dataframe tbody tr th {\n",
       "        vertical-align: top;\n",
       "    }\n",
       "\n",
       "    .dataframe thead th {\n",
       "        text-align: right;\n",
       "    }\n",
       "</style>\n",
       "<table border=\"1\" class=\"dataframe\">\n",
       "  <thead>\n",
       "    <tr style=\"text-align: right;\">\n",
       "      <th></th>\n",
       "      <th>ID</th>\n",
       "      <th>Date</th>\n",
       "      <th>DayOfWeek</th>\n",
       "      <th>Type</th>\n",
       "      <th>ReceiptDeclined</th>\n",
       "      <th>Address</th>\n",
       "      <th>AddToMailingList</th>\n",
       "      <th>VolunteerInterest</th>\n",
       "      <th>NoOfDonations</th>\n",
       "      <th>Notes</th>\n",
       "    </tr>\n",
       "  </thead>\n",
       "  <tbody>\n",
       "    <tr>\n",
       "      <th>0</th>\n",
       "      <td>1</td>\n",
       "      <td>2015-08-14</td>\n",
       "      <td>friday</td>\n",
       "      <td>NaN</td>\n",
       "      <td>NaN</td>\n",
       "      <td>CR  N, Rantoul</td>\n",
       "      <td>n</td>\n",
       "      <td>n</td>\n",
       "      <td>1.0</td>\n",
       "      <td>NaN</td>\n",
       "    </tr>\n",
       "    <tr>\n",
       "      <th>1</th>\n",
       "      <td>2</td>\n",
       "      <td>2015-08-14</td>\n",
       "      <td>friday</td>\n",
       "      <td>NaN</td>\n",
       "      <td>NaN</td>\n",
       "      <td>Delmar Ave, Champaign</td>\n",
       "      <td>n</td>\n",
       "      <td>n</td>\n",
       "      <td>1.0</td>\n",
       "      <td>NaN</td>\n",
       "    </tr>\n",
       "    <tr>\n",
       "      <th>2</th>\n",
       "      <td>3</td>\n",
       "      <td>2015-08-14</td>\n",
       "      <td>friday</td>\n",
       "      <td>NaN</td>\n",
       "      <td>NaN</td>\n",
       "      <td>Turkey Farm Rd, Mahomet</td>\n",
       "      <td>n</td>\n",
       "      <td>n</td>\n",
       "      <td>1.0</td>\n",
       "      <td>NaN</td>\n",
       "    </tr>\n",
       "    <tr>\n",
       "      <th>3</th>\n",
       "      <td>4</td>\n",
       "      <td>2015-08-14</td>\n",
       "      <td>friday</td>\n",
       "      <td>NaN</td>\n",
       "      <td>NaN</td>\n",
       "      <td>N. Lynn St, Apt , Champaign</td>\n",
       "      <td>n</td>\n",
       "      <td>n</td>\n",
       "      <td>1.0</td>\n",
       "      <td>NaN</td>\n",
       "    </tr>\n",
       "    <tr>\n",
       "      <th>4</th>\n",
       "      <td>5</td>\n",
       "      <td>2015-08-14</td>\n",
       "      <td>friday</td>\n",
       "      <td>NaN</td>\n",
       "      <td>NaN</td>\n",
       "      <td>B Patton Dr, Mahomet</td>\n",
       "      <td>n</td>\n",
       "      <td>n</td>\n",
       "      <td>1.0</td>\n",
       "      <td>NaN</td>\n",
       "    </tr>\n",
       "  </tbody>\n",
       "</table>\n",
       "</div>"
      ],
      "text/plain": [
       "   ID       Date DayOfWeek Type ReceiptDeclined                      Address  \\\n",
       "0   1 2015-08-14    friday  NaN             NaN               CR  N, Rantoul   \n",
       "1   2 2015-08-14    friday  NaN             NaN        Delmar Ave, Champaign   \n",
       "2   3 2015-08-14    friday  NaN             NaN      Turkey Farm Rd, Mahomet   \n",
       "3   4 2015-08-14    friday  NaN             NaN  N. Lynn St, Apt , Champaign   \n",
       "4   5 2015-08-14    friday  NaN             NaN         B Patton Dr, Mahomet   \n",
       "\n",
       "  AddToMailingList VolunteerInterest  NoOfDonations Notes  \n",
       "0                n                 n            1.0   NaN  \n",
       "1                n                 n            1.0   NaN  \n",
       "2                n                 n            1.0   NaN  \n",
       "3                n                 n            1.0   NaN  \n",
       "4                n                 n            1.0   NaN  "
      ]
     },
     "execution_count": 52,
     "metadata": {},
     "output_type": "execute_result"
    }
   ],
   "source": [
    "day_1216.head()"
   ]
  },
  {
   "cell_type": "markdown",
   "metadata": {},
   "source": [
    "*Count the number of donations for each day in the week*"
   ]
  },
  {
   "cell_type": "code",
   "execution_count": 54,
   "metadata": {},
   "outputs": [],
   "source": [
    "day_1216_week_day_count = day_1216.groupby('DayOfWeek').count()"
   ]
  },
  {
   "cell_type": "code",
   "execution_count": 64,
   "metadata": {},
   "outputs": [],
   "source": [
    "day_1216_week_day_count.reset_index(inplace = True)"
   ]
  },
  {
   "cell_type": "code",
   "execution_count": 72,
   "metadata": {},
   "outputs": [
    {
     "data": {
      "text/plain": [
       "<matplotlib.axes._subplots.AxesSubplot at 0x1145ce3c8>"
      ]
     },
     "execution_count": 72,
     "metadata": {},
     "output_type": "execute_result"
    },
    {
     "data": {
      "image/png": "[encoded data removed]",
      "text/plain": [
       "<Figure size 432x288 with 1 Axes>"
      ]
     },
     "metadata": {},
     "output_type": "display_data"
    }
   ],
   "source": [
    "sns.barplot(x = 'DayOfWeek', y = 'NoOfDonations', data = day_1216_week_day_count)"
   ]
  },
  {
   "cell_type": "markdown",
   "metadata": {},
   "source": [
    "*Can you get the answer from the plot?*"
   ]
  }
 ],
 "metadata": {
  "kernelspec": {
   "display_name": "Python 3",
   "language": "python",
   "name": "python3"
  },
  "language_info": {
   "codemirror_mode": {
    "name": "ipython",
    "version": 3
   },
   "file_extension": ".py",
   "mimetype": "text/x-python",
   "name": "python",
   "nbconvert_exporter": "python",
   "pygments_lexer": "ipython3",
   "version": "3.6.7"
  }
 },
 "nbformat": 4,
 "nbformat_minor": 2
}
