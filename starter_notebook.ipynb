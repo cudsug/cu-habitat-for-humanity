{
  "cells": [
    {
      "cell_type": "markdown",
      "source": [
        "**This notebook is an example notebook of how you can explore and visualize the dataset**"
      ],
      "metadata": {}
    },
    {
      "cell_type": "code",
      "source": [
        "# import some helper libraries\n",
        "import pandas as pd # for working with dataframes\n",
        "import matplotlib.pyplot as plt # for plotting\n",
        "%matplotlib inline\n",
        "import seaborn as sns # for pretty plotting\n",
        "import datetime # for dealing with datetime data"
      ],
      "outputs": [],
      "execution_count": 2,
      "metadata": {}
    },
    {
      "cell_type": "code",
      "source": [
        "# read in one of the datasets\n",
        "day_1216 = pd.read_csv('datasets/donations_by_day_2012_2016.csv')"
      ],
      "outputs": [],
      "execution_count": 3,
      "metadata": {}
    },
    {
      "cell_type": "code",
      "source": [
        "# take a look at the first few data points\n",
        "day_1216.head()"
      ],
      "outputs": [
        {
          "output_type": "execute_result",
          "execution_count": 4,
          "data": {
            "text/plain": [
              "   ID       Date DayOfWeek Type ReceiptDeclined                      Address  \\\n",
              "0   1  8/14/2015    Friday  NaN             NaN               CR  N, Rantoul   \n",
              "1   2  8/14/2015    Friday  NaN             NaN        Delmar Ave, Champaign   \n",
              "2   3  8/14/2015    Friday  NaN             NaN      Turkey Farm Rd, Mahomet   \n",
              "3   4  8/14/2015    Friday  NaN             NaN  N. Lynn St, Apt , Champaign   \n",
              "4   5  8/14/2015    Friday  NaN             NaN         B Patton Dr, Mahomet   \n",
              "\n",
              "  AddToMailingList VolunteerInterest  NoOfDonations Notes  \n",
              "0                n                 n            1.0   NaN  \n",
              "1                n                 n            1.0   NaN  \n",
              "2                n                 n            1.0   NaN  \n",
              "3                n                 n            1.0   NaN  \n",
              "4                n                 n            1.0   NaN  "
            ],
            "text/html": [
              "<div>\n",
              "<style scoped>\n",
              "    .dataframe tbody tr th:only-of-type {\n",
              "        vertical-align: middle;\n",
              "    }\n",
              "\n",
              "    .dataframe tbody tr th {\n",
              "        vertical-align: top;\n",
              "    }\n",
              "\n",
              "    .dataframe thead th {\n",
              "        text-align: right;\n",
              "    }\n",
              "</style>\n",
              "<table border=\"1\" class=\"dataframe\">\n",
              "  <thead>\n",
              "    <tr style=\"text-align: right;\">\n",
              "      <th></th>\n",
              "      <th>ID</th>\n",
              "      <th>Date</th>\n",
              "      <th>DayOfWeek</th>\n",
              "      <th>Type</th>\n",
              "      <th>ReceiptDeclined</th>\n",
              "      <th>Address</th>\n",
              "      <th>AddToMailingList</th>\n",
              "      <th>VolunteerInterest</th>\n",
              "      <th>NoOfDonations</th>\n",
              "      <th>Notes</th>\n",
              "    </tr>\n",
              "  </thead>\n",
              "  <tbody>\n",
              "    <tr>\n",
              "      <th>0</th>\n",
              "      <td>1</td>\n",
              "      <td>8/14/2015</td>\n",
              "      <td>Friday</td>\n",
              "      <td>NaN</td>\n",
              "      <td>NaN</td>\n",
              "      <td>CR  N, Rantoul</td>\n",
              "      <td>n</td>\n",
              "      <td>n</td>\n",
              "      <td>1.0</td>\n",
              "      <td>NaN</td>\n",
              "    </tr>\n",
              "    <tr>\n",
              "      <th>1</th>\n",
              "      <td>2</td>\n",
              "      <td>8/14/2015</td>\n",
              "      <td>Friday</td>\n",
              "      <td>NaN</td>\n",
              "      <td>NaN</td>\n",
              "      <td>Delmar Ave, Champaign</td>\n",
              "      <td>n</td>\n",
              "      <td>n</td>\n",
              "      <td>1.0</td>\n",
              "      <td>NaN</td>\n",
              "    </tr>\n",
              "    <tr>\n",
              "      <th>2</th>\n",
              "      <td>3</td>\n",
              "      <td>8/14/2015</td>\n",
              "      <td>Friday</td>\n",
              "      <td>NaN</td>\n",
              "      <td>NaN</td>\n",
              "      <td>Turkey Farm Rd, Mahomet</td>\n",
              "      <td>n</td>\n",
              "      <td>n</td>\n",
              "      <td>1.0</td>\n",
              "      <td>NaN</td>\n",
              "    </tr>\n",
              "    <tr>\n",
              "      <th>3</th>\n",
              "      <td>4</td>\n",
              "      <td>8/14/2015</td>\n",
              "      <td>Friday</td>\n",
              "      <td>NaN</td>\n",
              "      <td>NaN</td>\n",
              "      <td>N. Lynn St, Apt , Champaign</td>\n",
              "      <td>n</td>\n",
              "      <td>n</td>\n",
              "      <td>1.0</td>\n",
              "      <td>NaN</td>\n",
              "    </tr>\n",
              "    <tr>\n",
              "      <th>4</th>\n",
              "      <td>5</td>\n",
              "      <td>8/14/2015</td>\n",
              "      <td>Friday</td>\n",
              "      <td>NaN</td>\n",
              "      <td>NaN</td>\n",
              "      <td>B Patton Dr, Mahomet</td>\n",
              "      <td>n</td>\n",
              "      <td>n</td>\n",
              "      <td>1.0</td>\n",
              "      <td>NaN</td>\n",
              "    </tr>\n",
              "  </tbody>\n",
              "</table>\n",
              "</div>"
            ]
          },
          "metadata": {}
        }
      ],
      "execution_count": 4,
      "metadata": {}
    },
    {
      "cell_type": "code",
      "source": [
        "# and get some info about the columns\n",
        "day_1216.info()"
      ],
      "outputs": [
        {
          "output_type": "stream",
          "name": "stdout",
          "text": [
            "<class 'pandas.core.frame.DataFrame'>\n",
            "RangeIndex: 10072 entries, 0 to 10071\n",
            "Data columns (total 10 columns):\n",
            "ID                   10072 non-null int64\n",
            "Date                 10072 non-null object\n",
            "DayOfWeek            7956 non-null object\n",
            "Type                 53 non-null object\n",
            "ReceiptDeclined      842 non-null object\n",
            "Address              5849 non-null object\n",
            "AddToMailingList     9199 non-null object\n",
            "VolunteerInterest    9201 non-null object\n",
            "NoOfDonations        10042 non-null float64\n",
            "Notes                7 non-null object\n",
            "dtypes: float64(1), int64(1), object(8)\n",
            "memory usage: 787.0+ KB\n"
          ]
        }
      ],
      "execution_count": 5,
      "metadata": {}
    },
    {
      "cell_type": "code",
      "source": [
        "day_1216['NoOfDonations'].unique()"
      ],
      "outputs": [
        {
          "output_type": "execute_result",
          "execution_count": 6,
          "data": {
            "text/plain": [
              "array([ 1.,  6., 18.,  8.,  7.,  9., 10., 12.,  5., 11., 15.,  4.,  2.,\n",
              "       nan, 14., 13.,  3.,  0., 16., 17., 20.])"
            ]
          },
          "metadata": {}
        }
      ],
      "execution_count": 6,
      "metadata": {}
    },
    {
      "cell_type": "markdown",
      "source": [
        "One simple question to ask is: What day in the week had the most donations? Let's take a look at the DayOfWeek column. First we want to check for missing values."
      ],
      "metadata": {}
    },
    {
      "cell_type": "code",
      "source": [
        "sum(day_1216['DayOfWeek'].isnull())"
      ],
      "outputs": [
        {
          "output_type": "execute_result",
          "execution_count": 7,
          "data": {
            "text/plain": [
              "2116"
            ]
          },
          "metadata": {}
        }
      ],
      "execution_count": 7,
      "metadata": {}
    },
    {
      "cell_type": "code",
      "source": [
        "# examining the DayOfWeek column\n",
        "day_1216['DayOfWeek'].unique()"
      ],
      "outputs": [
        {
          "output_type": "execute_result",
          "execution_count": 8,
          "data": {
            "text/plain": [
              "array(['Friday', 'Saturday', 'Monday', 'Monday ', 'Tuesday ',\n",
              "       'Wednesday ', 'Thursday', nan, 'Tuesday', 'Wednesday', 'Saturday ',\n",
              "       'Sunday', ' Monday ', 'MONDAY', 'Thursday ', 'Friday ', 'FRIDAY',\n",
              "       'SATURDAY', 'TUESDAY', 'WEDNESDAY', 'THURSDAY', ' Saturday',\n",
              "       ' Monday', 'monday', 'wednesday', '   '], dtype=object)"
            ]
          },
          "metadata": {}
        }
      ],
      "execution_count": 8,
      "metadata": {}
    },
    {
      "cell_type": "markdown",
      "source": [
        "*Seems like there are many different ways of enter the day of week! Will need to clean them a bit. Or since we have the date for every donation, we can get the day of week straight from there to impute missing entries.*"
      ],
      "metadata": {}
    },
    {
      "cell_type": "code",
      "source": [
        "day_1216['Date'] = pd.to_datetime(day_1216['Date'])"
      ],
      "outputs": [],
      "execution_count": 9,
      "metadata": {}
    },
    {
      "cell_type": "code",
      "source": [
        "week_days = {0: 'monday', 1: 'tuesday', 2: 'wednesday', 3: 'thursday', 4: 'friday', 5: 'saturday', 6: 'sunday'}"
      ],
      "outputs": [],
      "execution_count": 10,
      "metadata": {}
    },
    {
      "cell_type": "code",
      "source": [
        "day_1216['DayOfWeek'] = day_1216['Date'].apply(lambda date: week_days[date.weekday()])"
      ],
      "outputs": [],
      "execution_count": 11,
      "metadata": {}
    },
    {
      "cell_type": "code",
      "source": [
        "day_1216.head()"
      ],
      "outputs": [
        {
          "output_type": "execute_result",
          "execution_count": 12,
          "data": {
            "text/plain": [
              "   ID       Date DayOfWeek Type ReceiptDeclined                      Address  \\\n",
              "0   1 2015-08-14    friday  NaN             NaN               CR  N, Rantoul   \n",
              "1   2 2015-08-14    friday  NaN             NaN        Delmar Ave, Champaign   \n",
              "2   3 2015-08-14    friday  NaN             NaN      Turkey Farm Rd, Mahomet   \n",
              "3   4 2015-08-14    friday  NaN             NaN  N. Lynn St, Apt , Champaign   \n",
              "4   5 2015-08-14    friday  NaN             NaN         B Patton Dr, Mahomet   \n",
              "\n",
              "  AddToMailingList VolunteerInterest  NoOfDonations Notes  \n",
              "0                n                 n            1.0   NaN  \n",
              "1                n                 n            1.0   NaN  \n",
              "2                n                 n            1.0   NaN  \n",
              "3                n                 n            1.0   NaN  \n",
              "4                n                 n            1.0   NaN  "
            ],
            "text/html": [
              "<div>\n",
              "<style scoped>\n",
              "    .dataframe tbody tr th:only-of-type {\n",
              "        vertical-align: middle;\n",
              "    }\n",
              "\n",
              "    .dataframe tbody tr th {\n",
              "        vertical-align: top;\n",
              "    }\n",
              "\n",
              "    .dataframe thead th {\n",
              "        text-align: right;\n",
              "    }\n",
              "</style>\n",
              "<table border=\"1\" class=\"dataframe\">\n",
              "  <thead>\n",
              "    <tr style=\"text-align: right;\">\n",
              "      <th></th>\n",
              "      <th>ID</th>\n",
              "      <th>Date</th>\n",
              "      <th>DayOfWeek</th>\n",
              "      <th>Type</th>\n",
              "      <th>ReceiptDeclined</th>\n",
              "      <th>Address</th>\n",
              "      <th>AddToMailingList</th>\n",
              "      <th>VolunteerInterest</th>\n",
              "      <th>NoOfDonations</th>\n",
              "      <th>Notes</th>\n",
              "    </tr>\n",
              "  </thead>\n",
              "  <tbody>\n",
              "    <tr>\n",
              "      <th>0</th>\n",
              "      <td>1</td>\n",
              "      <td>2015-08-14</td>\n",
              "      <td>friday</td>\n",
              "      <td>NaN</td>\n",
              "      <td>NaN</td>\n",
              "      <td>CR  N, Rantoul</td>\n",
              "      <td>n</td>\n",
              "      <td>n</td>\n",
              "      <td>1.0</td>\n",
              "      <td>NaN</td>\n",
              "    </tr>\n",
              "    <tr>\n",
              "      <th>1</th>\n",
              "      <td>2</td>\n",
              "      <td>2015-08-14</td>\n",
              "      <td>friday</td>\n",
              "      <td>NaN</td>\n",
              "      <td>NaN</td>\n",
              "      <td>Delmar Ave, Champaign</td>\n",
              "      <td>n</td>\n",
              "      <td>n</td>\n",
              "      <td>1.0</td>\n",
              "      <td>NaN</td>\n",
              "    </tr>\n",
              "    <tr>\n",
              "      <th>2</th>\n",
              "      <td>3</td>\n",
              "      <td>2015-08-14</td>\n",
              "      <td>friday</td>\n",
              "      <td>NaN</td>\n",
              "      <td>NaN</td>\n",
              "      <td>Turkey Farm Rd, Mahomet</td>\n",
              "      <td>n</td>\n",
              "      <td>n</td>\n",
              "      <td>1.0</td>\n",
              "      <td>NaN</td>\n",
              "    </tr>\n",
              "    <tr>\n",
              "      <th>3</th>\n",
              "      <td>4</td>\n",
              "      <td>2015-08-14</td>\n",
              "      <td>friday</td>\n",
              "      <td>NaN</td>\n",
              "      <td>NaN</td>\n",
              "      <td>N. Lynn St, Apt , Champaign</td>\n",
              "      <td>n</td>\n",
              "      <td>n</td>\n",
              "      <td>1.0</td>\n",
              "      <td>NaN</td>\n",
              "    </tr>\n",
              "    <tr>\n",
              "      <th>4</th>\n",
              "      <td>5</td>\n",
              "      <td>2015-08-14</td>\n",
              "      <td>friday</td>\n",
              "      <td>NaN</td>\n",
              "      <td>NaN</td>\n",
              "      <td>B Patton Dr, Mahomet</td>\n",
              "      <td>n</td>\n",
              "      <td>n</td>\n",
              "      <td>1.0</td>\n",
              "      <td>NaN</td>\n",
              "    </tr>\n",
              "  </tbody>\n",
              "</table>\n",
              "</div>"
            ]
          },
          "metadata": {}
        }
      ],
      "execution_count": 12,
      "metadata": {}
    },
    {
      "cell_type": "markdown",
      "source": [
        "*Count the number of donations for each day in the week*"
      ],
      "metadata": {}
    },
    {
      "cell_type": "code",
      "source": [
        "day_1216_week_day_count = day_1216.groupby('DayOfWeek').sum()"
      ],
      "outputs": [],
      "execution_count": 21,
      "metadata": {}
    },
    {
      "cell_type": "code",
      "source": [
        "day_1216_week_day_count.reset_index(inplace = True)"
      ],
      "outputs": [],
      "execution_count": 14,
      "metadata": {}
    },
    {
      "cell_type": "code",
      "source": [
        "day_1216_week_day_count[['DayOfWeek', 'NoOfDonations']]"
      ],
      "outputs": [
        {
          "output_type": "execute_result",
          "execution_count": 20,
          "data": {
            "text/plain": [
              "   DayOfWeek  NoOfDonations\n",
              "0     friday         2418.0\n",
              "1     monday         1753.0\n",
              "2   saturday         3119.0\n",
              "3     sunday           22.0\n",
              "4   thursday         2264.0\n",
              "5    tuesday         2703.0\n",
              "6  wednesday         2550.0"
            ],
            "text/html": [
              "<div>\n",
              "<style scoped>\n",
              "    .dataframe tbody tr th:only-of-type {\n",
              "        vertical-align: middle;\n",
              "    }\n",
              "\n",
              "    .dataframe tbody tr th {\n",
              "        vertical-align: top;\n",
              "    }\n",
              "\n",
              "    .dataframe thead th {\n",
              "        text-align: right;\n",
              "    }\n",
              "</style>\n",
              "<table border=\"1\" class=\"dataframe\">\n",
              "  <thead>\n",
              "    <tr style=\"text-align: right;\">\n",
              "      <th></th>\n",
              "      <th>DayOfWeek</th>\n",
              "      <th>NoOfDonations</th>\n",
              "    </tr>\n",
              "  </thead>\n",
              "  <tbody>\n",
              "    <tr>\n",
              "      <th>0</th>\n",
              "      <td>friday</td>\n",
              "      <td>2418.0</td>\n",
              "    </tr>\n",
              "    <tr>\n",
              "      <th>1</th>\n",
              "      <td>monday</td>\n",
              "      <td>1753.0</td>\n",
              "    </tr>\n",
              "    <tr>\n",
              "      <th>2</th>\n",
              "      <td>saturday</td>\n",
              "      <td>3119.0</td>\n",
              "    </tr>\n",
              "    <tr>\n",
              "      <th>3</th>\n",
              "      <td>sunday</td>\n",
              "      <td>22.0</td>\n",
              "    </tr>\n",
              "    <tr>\n",
              "      <th>4</th>\n",
              "      <td>thursday</td>\n",
              "      <td>2264.0</td>\n",
              "    </tr>\n",
              "    <tr>\n",
              "      <th>5</th>\n",
              "      <td>tuesday</td>\n",
              "      <td>2703.0</td>\n",
              "    </tr>\n",
              "    <tr>\n",
              "      <th>6</th>\n",
              "      <td>wednesday</td>\n",
              "      <td>2550.0</td>\n",
              "    </tr>\n",
              "  </tbody>\n",
              "</table>\n",
              "</div>"
            ]
          },
          "metadata": {}
        }
      ],
      "execution_count": 20,
      "metadata": {
        "collapsed": false,
        "outputHidden": false,
        "inputHidden": false
      }
    },
    {
      "cell_type": "code",
      "source": [
        "sns.barplot(x = 'DayOfWeek', y = 'NoOfDonations', data = day_1216_week_day_count)"
      ],
      "outputs": [
        {
          "output_type": "execute_result",
          "execution_count": 17,
          "data": {
            "text/plain": [
              "<matplotlib.axes._subplots.AxesSubplot at 0x10bf82da0>"
            ]
          },
          "metadata": {}
        },
        {
          "output_type": "display_data",
          "data": {
            "text/plain": [
              "<Figure size 432x288 with 1 Axes>"
            ],
            "image/png": "[encoded data removed]"
          },
          "metadata": {}
        }
      ],
      "execution_count": 17,
      "metadata": {}
    },
    {
      "cell_type": "markdown",
      "source": [
        "*Can you get the answer from the plot?*"
      ],
      "metadata": {}
    }
  ],
  "metadata": {
    "kernelspec": {
      "name": "python3",
      "language": "python",
      "display_name": "Python 3"
    },
    "language_info": {
      "name": "python",
      "version": "3.6.7",
      "mimetype": "text/x-python",
      "codemirror_mode": {
        "name": "ipython",
        "version": 3
      },
      "pygments_lexer": "ipython3",
      "nbconvert_exporter": "python",
      "file_extension": ".py"
    },
    "kernel_info": {
      "name": "python3"
    },
    "nteract": {
      "version": "0.12.3"
    }
  },
  "nbformat": 4,
  "nbformat_minor": 2
}